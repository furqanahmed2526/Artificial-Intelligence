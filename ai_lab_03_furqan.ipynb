{
  "cells": [
    {
      "cell_type": "markdown",
      "metadata": {
        "id": "view-in-github",
        "colab_type": "text"
      },
      "source": [
        "<a href=\"https://colab.research.google.com/github/furqanahmed2526/FurqanAhmed2526/blob/main/ai_lab_03_furqan.ipynb\" target=\"_parent\"><img src=\"https://colab.research.google.com/assets/colab-badge.svg\" alt=\"Open In Colab\"/></a>"
      ]
    },
    {
      "cell_type": "code",
      "execution_count": null,
      "id": "1448d565",
      "metadata": {
        "id": "1448d565"
      },
      "outputs": [],
      "source": [
        "#Lab 03 \n",
        "#Activity 1\n",
        "class Node:\n",
        "    \n",
        "    def __init__(self, state, parent, actions, totalCost):\n",
        "        self.state = state\n",
        "        self.parent = parent\n",
        "        self.actions = actions\n",
        "        self.totalCost = totalCost\n",
        "        "
      ]
    },
    {
      "cell_type": "code",
      "execution_count": null,
      "id": "35c7d080",
      "metadata": {
        "id": "35c7d080"
      },
      "outputs": [],
      "source": [
        "graph = {'A': Node('A', None,['B','C','E'], None),\n",
        "         'B': Node('B', None,['A','D','E'], None),\n",
        "         'C': Node('C', None,['A','F','G'], None),\n",
        "         'D': Node('D', None,['B','E',''], None),\n",
        "         'E': Node('E', None,['A','B'], None),\n",
        "         'F': Node('F', None,['C'], None),\n",
        "         'G': Node('G', None,['C'], None)}"
      ]
    },
    {
      "cell_type": "code",
      "execution_count": null,
      "id": "1ea131a5",
      "metadata": {
        "id": "1ea131a5"
      },
      "outputs": [],
      "source": [
        "\n",
        "#Activity 1-B\n",
        "\n",
        "def BFS():\n",
        "    initialState ='D'\n",
        "    goalState = 'F'\n",
        "    \n",
        "    \n",
        "    graph = {'A': Node('A', None,['B','C','E'], None),\n",
        "             'B': Node('B', None,['A','D','E'], None),\n",
        "             'C': Node('C', None,['A','F','G'], None),\n",
        "             'D': Node('D', None,['B','E'], None),\n",
        "             'E': Node('E', None,['A','B'], None),\n",
        "             'F': Node('F', None,['C'], None),\n",
        "             'G': Node('G', None,['C'], None)}\n",
        "    frontier = [initialState]\n",
        "    explored = []\n",
        "    while len(frontier)!=0:\n",
        "        currentNode = frontier.pop(0)\n",
        "        explored.append(currentNode)\n",
        "        for child in graph[currentNode].actions:\n",
        "            if child not in frontier and child not in explored:\n",
        "                graph[child].parent=currentNode\n",
        "                if graph[child].state==goalState:\n",
        "                    return actionSequence(graph, initialState, goalState)\n",
        "            frontier.append(child)\n"
      ]
    },
    {
      "cell_type": "code",
      "execution_count": null,
      "id": "a89de5b7",
      "metadata": {
        "id": "a89de5b7"
      },
      "outputs": [],
      "source": [
        "def actionSequence(graph, initialState, goalState):\n",
        "    \n",
        "        solution=[goalState]\n",
        "        currentParent=graph[goalState].parent\n",
        "        while currentParent!= None:\n",
        "            solution.append(currentParent)\n",
        "            currentParent = graph[currentParent].parent\n",
        "        solution.reverse()\n",
        "        return solution"
      ]
    },
    {
      "cell_type": "code",
      "execution_count": null,
      "id": "059298d1",
      "metadata": {
        "scrolled": false,
        "id": "059298d1",
        "outputId": "d2de961e-834b-4d6b-a5ce-4ea7e3848fba"
      },
      "outputs": [
        {
          "name": "stdout",
          "output_type": "stream",
          "text": [
            "['D', 'B', 'A', 'C', 'F']\n"
          ]
        }
      ],
      "source": [
        "solution = BFS()\n",
        "print(solution)"
      ]
    },
    {
      "cell_type": "code",
      "execution_count": null,
      "id": "8ff3c7ff",
      "metadata": {
        "id": "8ff3c7ff"
      },
      "outputs": [],
      "source": []
    }
  ],
  "metadata": {
    "kernelspec": {
      "display_name": "Python 3 (ipykernel)",
      "language": "python",
      "name": "python3"
    },
    "language_info": {
      "codemirror_mode": {
        "name": "ipython",
        "version": 3
      },
      "file_extension": ".py",
      "mimetype": "text/x-python",
      "name": "python",
      "nbconvert_exporter": "python",
      "pygments_lexer": "ipython3",
      "version": "3.9.7"
    },
    "colab": {
      "provenance": [],
      "include_colab_link": true
    }
  },
  "nbformat": 4,
  "nbformat_minor": 5
}