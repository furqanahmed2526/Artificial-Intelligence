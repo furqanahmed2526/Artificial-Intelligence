{
  "cells": [
    {
      "cell_type": "markdown",
      "metadata": {
        "id": "view-in-github",
        "colab_type": "text"
      },
      "source": [
        "<a href=\"https://colab.research.google.com/github/furqanahmed2526/FurqanAhmed2526/blob/main/lab04_furqan_ahmed_sp20_bcs_052.ipynb\" target=\"_parent\"><img src=\"https://colab.research.google.com/assets/colab-badge.svg\" alt=\"Open In Colab\"/></a>"
      ]
    },
    {
      "cell_type": "code",
      "execution_count": null,
      "id": "a111577e",
      "metadata": {
        "id": "a111577e"
      },
      "outputs": [],
      "source": [
        "class Node:\n",
        "    \n",
        "    def __init__(self, state, parent, actions, totalCost):\n",
        "        self.state = state\n",
        "        self.parent = parent\n",
        "        self.actions = actions\n",
        "        self.totalCost = totalCost"
      ]
    },
    {
      "cell_type": "code",
      "execution_count": null,
      "id": "e247534c",
      "metadata": {
        "id": "e247534c"
      },
      "outputs": [],
      "source": [
        "graph = {'Oradea':         Node('Oradea',         None,['Zerind','Sibiu'], [71,151]),\n",
        "         'Zerind':         Node('Zerind',         None,['Arad'], [75]),\n",
        "         'Arad':           Node('Arad',           None,['Sibiu','Timisoara'], [140,118]),\n",
        "         'Timisoara':      Node('Timisoara',      None,['Lugoj'], [111]),\n",
        "         'Lugoj':          Node('Lugoj',          None,['Mehadia'], [70]),\n",
        "         'Mehadia':        Node('Mehadia',        None,['Drobeta'], [75]),\n",
        "         'Drobeta':        Node('Drobeta',        None,['Craviova'],[120]),\n",
        "         'Craviova':       Node('Craviova',       None,['Rimnicu Vilcea','Pitesti'],[146,138]),\n",
        "         'Rimnicu Vilcea': Node('Rimnieu Vilcea', None,['Sibiu','Pitesti'], [80,97]),\n",
        "         'Pitesti':        Node('Pitesti',        None,['Bucharest'],[101]),\n",
        "         'Bucharest':      Node('Bucharest',      None,['Giurgiu','Fagaras','Urziceni'],[90,211,85]),\n",
        "         'Fagaras':        Node('Fagaras',        None,['Sibiu'],[99]),\n",
        "         'Sibiu':          Node('Sibiu',          None,['Rimnicu Vilcea','Fagaras'], [80,99]),\n",
        "         'Urziceni':       Node('Urziceni',       None,['Hirsova','Vaslui'], [98,142]),\n",
        "         'Hirsova':        Node('Hirsova',        None,['Eforie'],[86]),\n",
        "         'Vaslui':         Node('Vaslui',         None,['Lasi'],[92]),\n",
        "         'Lasi':           Node('Lasi',           None,['Neamt'],[87])}"
      ]
    },
    {
      "cell_type": "code",
      "execution_count": null,
      "id": "0cc587fd",
      "metadata": {
        "id": "0cc587fd"
      },
      "outputs": [],
      "source": [
        "def DFS():\n",
        "    initialState ='Arad'\n",
        "    goalState = 'Bucharest'\n",
        "    \n",
        "    \n",
        "    graph = {'Oradea':         Node('Oradea',             None,['Zerind','Sibiu'], [71,151]),\n",
        "             'Zerind':         Node('Zerind',         None,['Arad'], [75]),\n",
        "             'Arad':           Node('Arad',           None,['Sibiu','Timisoara'], [140,118]),\n",
        "             'Timisoara':      Node('Timisoara',      None,['Lugoj'], [111]),\n",
        "             'Lugoj':          Node('Lugoj',          None,['Mehadia'], [70]),\n",
        "             'Mehadia':        Node('Mehadia',        None,['Drobeta'], [75]),\n",
        "             'Drobeta':        Node('Drobeta',        None,['Craviova'],[120]),\n",
        "             'Craviova':       Node('Craviova',       None,['Rimnicu Vilcea','Pitesti'],[146,138]),\n",
        "             'Rimnicu Vilcea': Node('Rimnieu Vilcea', None,['Sibiu','Pitesti'], [80,97]),\n",
        "             'Pitesti':        Node('Pitesti',        None,['Bucharest'],[101]),\n",
        "             'Bucharest':      Node('Bucharest',      None,['Giurgiu','Fagaras','Urziceni'],[90,211,85]),\n",
        "             'Fagaras':        Node('Fagaras',        None,['Sibiu'],[99]),\n",
        "             'Sibiu':          Node('Sibiu',          None,['Rimnicu Vilcea','Fagaras'], [80,99]),\n",
        "             'Urziceni':       Node('Urziceni',       None,['Hirsova','Vaslui'], [98,142]),\n",
        "             'Hirsova':        Node('Hirsova',        None,['Eforie'],[86]),\n",
        "             'Vaslui':         Node('Vaslui',         None,['Lasi'],[92]),\n",
        "             'Lasi':           Node('Lasi',           None,['Neamt'],[87])}\n",
        "    frontier = [initialState]\n",
        "    explored = []\n",
        "    while len(frontier)!=0:\n",
        "        currentNode=frontier.pop(len(frontier)-1)\n",
        "        print (currentNode)\n",
        "        explored.append(currentNode)\n",
        "        currentChildren=0\n",
        "        for child in graph[currentNode].actions:\n",
        "            if child not in frontier and child not in explored:\n",
        "                graph[child].parent=currentNode\n",
        "                if graph[child].state==goalState:\n",
        "                    print(explored)\n",
        "                    return actionSequence(graph, initialState, goalState)\n",
        "                currentChildren=currentChildren+1\n",
        "                frontier.append(child)\n",
        "        if currentChildren==0:\n",
        "            del explored[len(explored)-1]\n"
      ]
    },
    {
      "cell_type": "code",
      "execution_count": null,
      "id": "b01d3588",
      "metadata": {
        "id": "b01d3588"
      },
      "outputs": [],
      "source": [
        "def actionSequence(graph, initialState, goalState):\n",
        "    \n",
        "        solution=[goalState]\n",
        "        currentParent=graph[goalState].parent\n",
        "        while currentParent!= None:\n",
        "            solution.append(currentParent)\n",
        "            currentParent = graph[currentParent].parent\n",
        "        solution.reverse()\n",
        "        return solution"
      ]
    },
    {
      "cell_type": "code",
      "execution_count": null,
      "id": "cd38bbf5",
      "metadata": {
        "id": "cd38bbf5",
        "outputId": "0882a733-c7cb-4baf-8b80-4a44ea8467cb"
      },
      "outputs": [
        {
          "name": "stdout",
          "output_type": "stream",
          "text": [
            "Arad\n",
            "Timisoara\n",
            "Lugoj\n",
            "Mehadia\n",
            "Drobeta\n",
            "Craviova\n",
            "Pitesti\n",
            "['Arad', 'Timisoara', 'Lugoj', 'Mehadia', 'Drobeta', 'Craviova', 'Pitesti']\n",
            "['Arad', 'Timisoara', 'Lugoj', 'Mehadia', 'Drobeta', 'Craviova', 'Pitesti', 'Bucharest']\n"
          ]
        }
      ],
      "source": [
        "solution = DFS()\n",
        "print(solution)"
      ]
    },
    {
      "cell_type": "code",
      "execution_count": null,
      "id": "c0db3b0a",
      "metadata": {
        "id": "c0db3b0a"
      },
      "outputs": [],
      "source": []
    }
  ],
  "metadata": {
    "kernelspec": {
      "display_name": "Python 3 (ipykernel)",
      "language": "python",
      "name": "python3"
    },
    "language_info": {
      "codemirror_mode": {
        "name": "ipython",
        "version": 3
      },
      "file_extension": ".py",
      "mimetype": "text/x-python",
      "name": "python",
      "nbconvert_exporter": "python",
      "pygments_lexer": "ipython3",
      "version": "3.9.13"
    },
    "colab": {
      "provenance": [],
      "include_colab_link": true
    }
  },
  "nbformat": 4,
  "nbformat_minor": 5
}