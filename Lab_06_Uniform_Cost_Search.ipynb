{
 "cells": [
  {
   "cell_type": "markdown",
   "metadata": {
    "colab_type": "text",
    "id": "view-in-github"
   },
   "source": [
    "<a href=\"https://colab.research.google.com/github/muaazshoaib/artificial_intelligence_lab/blob/main/Lab_6_Uniform_Cost_Search.ipynb\" target=\"_parent\"><img src=\"https://colab.research.google.com/assets/colab-badge.svg\" alt=\"Open In Colab\"/></a>"
   ]
  },
  {
   "cell_type": "markdown",
   "metadata": {
    "id": "CkGG6ZEXC10P"
   },
   "source": [
    "## Uniform Cost Search"
   ]
  },
  {
   "cell_type": "code",
   "execution_count": 8,
   "metadata": {
    "id": "0foR0PImC6Im"
   },
   "outputs": [],
   "source": [
    "class Node:\n",
    "    def __init__(self, state, parent, actions, totalCost):\n",
    "        self.state = state\n",
    "        self.parent = parent\n",
    "        self.actions = actions\n",
    "        self.totalCost = totalCost"
   ]
  },
  {
   "cell_type": "code",
   "execution_count": 2,
   "metadata": {
    "id": "aTPPv0aCC8Vb"
   },
   "outputs": [],
   "source": [
    "import math \n",
    "\n",
    "def findMin(frontier):\n",
    "    minV = math.inf\n",
    "    node = ''\n",
    "    for i in frontier:\n",
    "        if minV > frontier[i][1]:\n",
    "            minV = frontier[i][1]\n",
    "            node = 1\n",
    "    return node"
   ]
  },
  {
   "cell_type": "code",
   "execution_count": 3,
   "metadata": {
    "id": "PCQt-hVgC-8R"
   },
   "outputs": [],
   "source": [
    "def actionSequence(graph, initialState, goalState):\n",
    "    solution = [goalState]\n",
    "    currentParent = graph[goalState].parent\n",
    "    while currentParent != None:\n",
    "        solution.append(currentParent)\n",
    "        currentParent = graph[currentParent].parent\n",
    "    solution.reverse()\n",
    "    return solution  "
   ]
  },
  {
   "cell_type": "code",
   "execution_count": 12,
   "metadata": {
    "id": "bcWbu-sXDH2A"
   },
   "outputs": [],
   "source": [
    "def UniformCostSearch(graph, initialState, goalState):\n",
    "\n",
    "    frontier = dict()\n",
    "    frontier = [initialState]\n",
    "    explored = []\n",
    "\n",
    "    while len(frontier) != 0:\n",
    "        currentNode = findMin(frontier)\n",
    "        del frontier[currentNode]\n",
    "        if graph[currentNode].state == goalState:\n",
    "            return actionSequence(graph, initialState, goalState)\n",
    "        explored.append(currentNode)\n",
    "        for child in graph[currentNode].actions:\n",
    "            currentCost = child[1] + graph[currentNode].totalCost\n",
    "            if child[0] not in frontier and child[0] not in explored:\n",
    "                graph[child[0]].parent = currentNode\n",
    "                graph[child[0]].totalCost = currentCost\n",
    "                frontier[child[0]] = (graph[child[0]].parent, graph[child[0]].totalCost) \n",
    "            elif child[0] in frontier:\n",
    "                if frontier[child[0]][1] < currentCost:\n",
    "                        graph[child[0]].parent = frontier[child[0]][0] \n",
    "                        graph[child[0]].totalCost = frontier[child[0]][1]\n",
    "                else:\n",
    "                    frontier[child[0]] = (currentNode, currentCost)\n",
    "                    graph[child[0]].parent = frontier[child[0]][0]\n",
    "                    graph[child[0]].totalCost = frontier[child[0]][1]   "
   ]
  },
  {
   "cell_type": "markdown",
   "metadata": {
    "id": "lCsxOKqUrqv8"
   },
   "source": [
    "### Activity 1\n",
    "Imagine the same tree but this time we also mention the cost of each edge."
   ]
  },
  {
   "cell_type": "code",
   "execution_count": 12,
   "metadata": {
    "id": "mtgKDRtYsts9"
   },
   "outputs": [],
   "source": [
    "GRAPH = {\n",
    "    'A': Node('A', None, [('B', 6), ('C', 9), ('E', 1)], 0),\n",
    "    'B': Node('B', None, [('A', 6), ('D', 3), ('E', 4)], 0),\n",
    "    'C': Node('C', None, [('A', 9), ('F', 2), ('G', 3)], 0),\n",
    "    'D': Node('D', None, [('B', 3), ('E', 5), ('F', 7)], 0),\n",
    "    'E': Node('E', None, [('A', 1), ('B', 4), ('D', 5), ('F', 6)], 0),\n",
    "    'F': Node('F', None, [('C', 2), ('E', 6), ('D', 7)], 0),\n",
    "    'G': Node('G', None, [('C', 3)], 0),\n",
    "         }\n",
    "\n",
    "INITIAL_STATE = 'C' \n",
    "GOAL_STATE = 'B'        "
   ]
  },
  {
   "cell_type": "code",
   "execution_count": null,
   "metadata": {
    "id": "tSekp6f0H2BX"
   },
   "outputs": [],
   "source": [
    "solution = UniformCostSearch(graph=GRAPH,\n",
    "                             initialState=INITIAL_STATE,\n",
    "                             goalState=GOAL_STATE)"
   ]
  },
  {
   "cell_type": "markdown",
   "metadata": {
    "id": "wgKBwgGG7j2S"
   },
   "source": [
    "### Lab task 1\n",
    "Imagine going from Arad to Bucharest in the following map. Your goal is to minimize the distance mentioned in the map during your travel. Implement a uniform cost search to find the corresponding\n",
    "path."
   ]
  },
  {
   "cell_type": "code",
   "execution_count": null,
   "metadata": {
    "id": "1JBbHxT7H8I0"
   },
   "outputs": [],
   "source": [
    "GRAPH = {\n",
    "    'Oradea' : Node('Oradea',None,['Zerind','Sibiu'],[71,151] ),\n",
    "    'Zerind' : Node('Zerind',None,['Arad', 'Oradea'],[75,71 ]),\n",
    "    'Arad' : Node('Arad',None,['Zerind','Timisoara','Sibiu'],[75,118,140] ),\n",
    "    'Sibiu' : Node('Sibiu',None,['Fagaras','Rimnicu Vilcea','Oradea','Arad'],[99,80,151,140] ),\n",
    "    'Fagaras' : Node('Fagaras',None,['Sibiu','Bucharest'],[99,211] ),\n",
    "    'Bucharest' : Node('Bucharest',None,['Fagaras','Pitesti','Urziceni','Giurgiu'],[211,101,85,90] ),\n",
    "    'Pitesti' : Node('Pitesti',None,['Rimnicu Vilcea','Bucharest','Craiova'],[97,101,138] ),\n",
    "    'Urziceni' : Node('Urziceni',None,['Bucharest','Hirsova','Vaslui'],[85,98,142] ),\n",
    "    'Hirsova' : Node('Hirsova',None,['Urziceni','Eforie'],[98,86] ),\n",
    "    'Timisoara':Node('Timisoara',None,['Lugoj','Arad'],[111,118]),\n",
    "    'Lugoj':Node('Lugoj',None,['Mehadia','Timisoara'],[70,111]),\n",
    "    'Mehadia':Node('Mehadia',None,['Drobeta','Lugoj'],[75,70]),\n",
    "    'Rimnicu Vilcea':Node('Rimnicu Vilcea',None,['Sibiu','Pitesti'],[70,111]),\n",
    "    'Drobeta' : Node('Drobeta',None,['Craiova','Mehadia'],[120,75] ),\n",
    "    'Craiova' : Node('Craiova',None,['Pitesti','Rimnicu Vilcea'],[138,146] ),\n",
    "    'Eforie' : Node('Eforie',None,['Hirsova'],[86] ),\n",
    "    'Vaslui' : Node('Vaslui',None,['Urziceni','Iasi'],[142,92] ),\n",
    "    'Iasi' : Node('Iasi',None,['Vaslui','Neamt'],[92,87] ),\n",
    "    'Giurgiu' : Node('Giurgiu',None,[],[]),\n",
    "    'Neamt' : Node('Neamt',None,[],[] )\n",
    "    }\n",
    "\n",
    "INITIAL_STATE = 'Arad' \n",
    "GOAL_STATE = 'Neamt'        "
   ]
  },
  {
   "cell_type": "code",
   "execution_count": null,
   "metadata": {
    "id": "7p18WIB1ImPV"
   },
   "outputs": [],
   "source": [
    "solution = UniformCostSearch(graph=GRAPH,\n",
    "                             initialState=INITIAL_STATE,\n",
    "                             goalState=GOAL_STATE)"
   ]
  },
  {
   "cell_type": "code",
   "execution_count": null,
   "metadata": {
    "id": "eJ-dZ8BHIqC0"
   },
   "outputs": [],
   "source": []
  }
 ],
 "metadata": {
  "colab": {
   "authorship_tag": "ABX9TyOP+QS6UPSn2PWEUFYKu2VU",
   "collapsed_sections": [],
   "include_colab_link": true,
   "provenance": []
  },
  "kernelspec": {
   "display_name": "Python 3 (ipykernel)",
   "language": "python",
   "name": "python3"
  },
  "language_info": {
   "codemirror_mode": {
    "name": "ipython",
    "version": 3
   },
   "file_extension": ".py",
   "mimetype": "text/x-python",
   "name": "python",
   "nbconvert_exporter": "python",
   "pygments_lexer": "ipython3",
   "version": "3.9.13"
  }
 },
 "nbformat": 4,
 "nbformat_minor": 1
}
