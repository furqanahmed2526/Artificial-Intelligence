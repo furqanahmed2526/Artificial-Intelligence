{
  "cells": [
    {
      "cell_type": "markdown",
      "metadata": {
        "id": "view-in-github",
        "colab_type": "text"
      },
      "source": [
        "<a href=\"https://colab.research.google.com/github/furqanahmed2526/FurqanAhmed2526/blob/main/lab_5_furqan_ahmed_sp20_bcs_052.ipynb\" target=\"_parent\"><img src=\"https://colab.research.google.com/assets/colab-badge.svg\" alt=\"Open In Colab\"/></a>"
      ]
    },
    {
      "cell_type": "code",
      "execution_count": null,
      "id": "32755562",
      "metadata": {
        "id": "32755562"
      },
      "outputs": [],
      "source": [
        "\n",
        "def iterative_deepening_dfs(start, target):\n",
        "    depth = 1\n",
        "    bottom_reached = False\n",
        "    while not bottom_reached:\n",
        "        \n",
        "        result, bottom_reached = iterative_deepening_dfs_rec(start, target, 0,depth)\n",
        "        if result is not None:\n",
        "            return result\n",
        "        depth *=2\n",
        "        print(\"Increasing depth to \"+str(depth))\n",
        "    return None"
      ]
    },
    {
      "cell_type": "code",
      "execution_count": null,
      "id": "1d0d3826",
      "metadata": {
        "id": "1d0d3826"
      },
      "outputs": [],
      "source": [
        "def iterative_deepening_dfs_rec(node, target, current_depth, max_depth):\n",
        "    print(\"Visiting Node \"+ str(node[\"value\"]))\n",
        "    \n",
        "    if node[\"value\"] == target:\n",
        "        print(\"Found the node we're looking for!\")\n",
        "        return node, True\n",
        "        \n",
        "    if current_depth == max_depth:\n",
        "        print(\"Current maximum depth reached,returning...\")\n",
        "        if len(node[\"children\"])>0:\n",
        "            return None, False\n",
        "        else:\n",
        "            return None, True\n",
        "        \n",
        "    bottom_reached = True\n",
        "    for i in range(len(node[\"children\"])):\n",
        "        result, bottom_reached_rec = iterative_deepening_dfs_rec(node[\"children\"][i], target, current_depth + 1, max_depth)\n",
        "        \n",
        "        if result is not None:\n",
        "            return result, True\n",
        "        bottom_reached = bottom_reached and bottom_reached_rec\n",
        "        \n",
        "    return None, bottom_reached"
      ]
    },
    {
      "cell_type": "code",
      "execution_count": null,
      "id": "7524c9a9",
      "metadata": {
        "id": "7524c9a9"
      },
      "outputs": [],
      "source": [
        "start = {\"value\": 0, \"children\":[\n",
        "    {\"value\": 1, \"children\":[\n",
        "        {\"value\": 3, \"children\":[]},\n",
        "        {\"value\": 4, \"children\":[]}\n",
        "    ]}, {\"value\": 2, \"children\":[\n",
        "        {\"value\": 5, \"children\":[]},\n",
        "        {\"value\": 6, \"children\":[]}\n",
        "    ]}\n",
        "    \n",
        "]}\n",
        "\n"
      ]
    },
    {
      "cell_type": "code",
      "execution_count": null,
      "id": "fd465a09",
      "metadata": {
        "id": "fd465a09",
        "outputId": "91d265fe-85c3-4daa-bbc9-b3955458e169"
      },
      "outputs": [
        {
          "name": "stdout",
          "output_type": "stream",
          "text": [
            "Visiting Node 0\n",
            "Visiting Node 1\n",
            "Current maximum depth reached,returning...\n",
            "Visiting Node 2\n",
            "Current maximum depth reached,returning...\n",
            "Increasing depth to 2\n",
            "Visiting Node 0\n",
            "Visiting Node 1\n",
            "Visiting Node 3\n",
            "Current maximum depth reached,returning...\n",
            "Visiting Node 4\n",
            "Current maximum depth reached,returning...\n",
            "Visiting Node 2\n",
            "Visiting Node 5\n",
            "Current maximum depth reached,returning...\n",
            "Visiting Node 6\n",
            "Found the node we're looking for!\n",
            "6\n"
          ]
        }
      ],
      "source": [
        "print(iterative_deepening_dfs(start, 6)[\"value\"])"
      ]
    },
    {
      "cell_type": "code",
      "execution_count": null,
      "id": "740b91a2",
      "metadata": {
        "id": "740b91a2"
      },
      "outputs": [],
      "source": []
    }
  ],
  "metadata": {
    "kernelspec": {
      "display_name": "Python 3 (ipykernel)",
      "language": "python",
      "name": "python3"
    },
    "language_info": {
      "codemirror_mode": {
        "name": "ipython",
        "version": 3
      },
      "file_extension": ".py",
      "mimetype": "text/x-python",
      "name": "python",
      "nbconvert_exporter": "python",
      "pygments_lexer": "ipython3",
      "version": "3.9.13"
    },
    "colab": {
      "provenance": [],
      "include_colab_link": true
    }
  },
  "nbformat": 4,
  "nbformat_minor": 5
}