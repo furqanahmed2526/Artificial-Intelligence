{
  "cells": [
    {
      "cell_type": "markdown",
      "metadata": {
        "id": "view-in-github",
        "colab_type": "text"
      },
      "source": [
        "<a href=\"https://colab.research.google.com/github/furqanahmed2526/FurqanAhmed2526/blob/main/lab_03_lab_task02_furqan.ipynb\" target=\"_parent\"><img src=\"https://colab.research.google.com/assets/colab-badge.svg\" alt=\"Open In Colab\"/></a>"
      ]
    },
    {
      "cell_type": "code",
      "execution_count": null,
      "id": "ee89b019",
      "metadata": {
        "id": "ee89b019"
      },
      "outputs": [],
      "source": [
        "#LAB03 Task\n",
        "class Node:\n",
        "    \n",
        "    def __init__(self, state, parent, actions, totalCost):\n",
        "        self.state = state\n",
        "        self.parent = parent\n",
        "        self.actions = actions\n",
        "        self.totalCost = totalCost\n",
        "        "
      ]
    },
    {
      "cell_type": "code",
      "execution_count": null,
      "id": "d9397b6c",
      "metadata": {
        "id": "d9397b6c"
      },
      "outputs": [],
      "source": [
        "graph = {'Oradea':         Node('Oradea',         None,['Zerind','Sibiu'], [71,151]),\n",
        "         'Zerind':         Node('Zerind',         None,['Arad'], [75]),\n",
        "         'Arad':           Node('Arad',           None,['Sibiu','Timisoara'], [140,118]),\n",
        "         'Timisoara':      Node('Timisoara',      None,['Lugoj'], [111]),\n",
        "         'Sibiu':          Node('Sibiu',          None,['Rimnieu Vilcea','Fagaras'], [80,99]),\n",
        "         'Lugoj':          Node('Lugoj',          None,['Mehadia'], [70]),\n",
        "         'Rimnieu Vilcea': Node('Rimnieu Vilcea', None,['Pitesti'], [97]),\n",
        "         'Fagaras':        Node('Fagaras',        None,['Bucharest'],[211]),\n",
        "        'Bucharest':      Node('Bucharest',   None,['Lugoj'],[85])}"
      ]
    },
    {
      "cell_type": "code",
      "execution_count": null,
      "id": "38ffa73e",
      "metadata": {
        "id": "38ffa73e"
      },
      "outputs": [],
      "source": [
        "def BFS():\n",
        "    initialState ='Oradea'\n",
        "    goalState = 'Bucharest'\n",
        "    \n",
        "    \n",
        "    graph = {'Oradea':         Node('Oradea',         None,['Zerind','Sibiu'], [71,151]),\n",
        "         'Zerind':         Node('Zerind',         None,['Arad'], [75]),\n",
        "         'Arad':           Node('Arad',           None,['Sibiu','Timisoara'], [140,118]),\n",
        "         'Timisoara':      Node('Timisoara',      None,['Lugoj'], [111]),\n",
        "         'Sibiu':          Node('Sibiu',          None,['Rimnieu Vilcea','Fagaras'], [80,99]),\n",
        "         'Lugoj':          Node('Lugoj',          None,['Mehadia'], [70]),\n",
        "         'Rimnieu Vilcea': Node('Rimnieu Vilcea', None,['Zerind'], [97]),\n",
        "         'Fagaras':        Node('Fagaras',        None,['Bucharest'],[211]),\n",
        "            'Bucharest':      Node('Bucharest',   None,['Lugoj'],[85])}\n",
        "    frontier = [initialState]\n",
        "    explored = []\n",
        "    while len(frontier)!=0:\n",
        "        currentNode = frontier.pop(0)\n",
        "        explored.append(currentNode)\n",
        "        for child in graph[currentNode].actions:\n",
        "            if child not in frontier and child not in explored:\n",
        "                graph[child].parent=currentNode\n",
        "                if graph[child].state==goalState:\n",
        "                    return actionSequence(graph, initialState, goalState)\n",
        "            frontier.append(child)\n"
      ]
    },
    {
      "cell_type": "code",
      "execution_count": null,
      "id": "ffad86ce",
      "metadata": {
        "id": "ffad86ce"
      },
      "outputs": [],
      "source": [
        "def actionSequence(graph, initialState, goalState):\n",
        "    \n",
        "        solution=[goalState]\n",
        "        currentParent=graph[goalState].parent\n",
        "        while currentParent!= None:\n",
        "            solution.append(currentParent)\n",
        "            currentParent = graph[currentParent].parent\n",
        "        solution.reverse()\n",
        "        return solution"
      ]
    },
    {
      "cell_type": "code",
      "execution_count": null,
      "id": "78729b56",
      "metadata": {
        "id": "78729b56",
        "outputId": "ea89fb3a-2d35-4108-dcc2-3c2403ef49ee"
      },
      "outputs": [
        {
          "name": "stdout",
          "output_type": "stream",
          "text": [
            "['Oradea', 'Sibiu', 'Fagaras', 'Bucharest']\n"
          ]
        }
      ],
      "source": [
        "solution = BFS()\n",
        "print(solution)"
      ]
    },
    {
      "cell_type": "code",
      "execution_count": null,
      "id": "3f6a98bd",
      "metadata": {
        "id": "3f6a98bd"
      },
      "outputs": [],
      "source": []
    }
  ],
  "metadata": {
    "kernelspec": {
      "display_name": "Python 3 (ipykernel)",
      "language": "python",
      "name": "python3"
    },
    "language_info": {
      "codemirror_mode": {
        "name": "ipython",
        "version": 3
      },
      "file_extension": ".py",
      "mimetype": "text/x-python",
      "name": "python",
      "nbconvert_exporter": "python",
      "pygments_lexer": "ipython3",
      "version": "3.9.7"
    },
    "colab": {
      "provenance": [],
      "include_colab_link": true
    }
  },
  "nbformat": 4,
  "nbformat_minor": 5
}